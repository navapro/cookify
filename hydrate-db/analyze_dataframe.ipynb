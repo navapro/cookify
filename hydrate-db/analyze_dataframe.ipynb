{
 "cells": [
  {
   "cell_type": "code",
   "execution_count": null,
   "id": "0231f428",
   "metadata": {
    "vscode": {
     "languageId": "plaintext"
    }
   },
   "outputs": [],
   "source": [
    "!pip install kagglehub pandas"
   ]
  },
  {
   "cell_type": "code",
   "execution_count": null,
   "id": "f0da4ffa",
   "metadata": {
    "vscode": {
     "languageId": "plaintext"
    }
   },
   "outputs": [],
   "source": [
    "# Install dependencies as needed:\n",
    "# pip install kagglehub[pandas-datasets]\n",
    "import kagglehub\n",
    "from kagglehub import KaggleDatasetAdapter\n",
    "\n",
    "# Set the path to the file you'd like to load\n",
    "file_path = \"Food Ingredients and Recipe Dataset with Image Name Mapping.csv\"\n",
    "\n",
    "# Load the latest version\n",
    "df = kagglehub.load_dataset(\n",
    "  KaggleDatasetAdapter.PANDAS,\n",
    "  \"pes12017000148/food-ingredients-and-recipe-dataset-with-images\",\n",
    "  file_path,\n",
    "  # Provide any additional arguments like\n",
    "  # sql_query or pandas_kwargs. See the\n",
    "  # documenation for more information:\n",
    "  # https://github.com/Kaggle/kagglehub/blob/main/README.md#kaggledatasetadapterpandas\n",
    ")\n",
    "\n",
    "df.dtypes\n"
   ]
  },
  {
   "cell_type": "code",
   "execution_count": null,
   "id": "4916c290",
   "metadata": {
    "vscode": {
     "languageId": "plaintext"
    }
   },
   "outputs": [],
   "source": []
  },
  {
   "cell_type": "code",
   "execution_count": null,
   "id": "998896a4",
   "metadata": {
    "vscode": {
     "languageId": "plaintext"
    }
   },
   "outputs": [],
   "source": [
    "import pandas as pd\n",
    "from pandas.api.types import infer_dtype\n",
    "\n",
    "def detailed_dtype_report(df, max_samples=5):\n",
    "    \"\"\"\n",
    "    Return a DataFrame summarising, for each column:\n",
    "      • the native pandas dtype\n",
    "      • pandas’ inferred dtype (more specific than “object”)\n",
    "      • the Python types actually present and how many of each\n",
    "      • a few example non-null values\n",
    "    \"\"\"\n",
    "    rows = []\n",
    "\n",
    "    for col in sorted(df.columns):          # alphabetical order, per your preference\n",
    "        s = df[col].dropna()\n",
    "        inferred = infer_dtype(s, skipna=True)\n",
    "\n",
    "        # Count the Python types inside the column\n",
    "        type_counts = s.map(type).value_counts()\n",
    "        type_counts_str = ', '.join(f'{t.__name__}: {c}'\n",
    "                                    for t, c in type_counts.items())\n",
    "\n",
    "        # Grab a handful of sample values for a quick look\n",
    "        samples = ', '.join(map(repr, s.head(max_samples).tolist()))\n",
    "\n",
    "        rows.append({\n",
    "            'column': col,\n",
    "            'pandas_dtype': df[col].dtype,\n",
    "            'inferred_dtype': inferred,\n",
    "            'python_types (count)': type_counts_str,\n",
    "            f'sample_values (first {max_samples})': samples\n",
    "        })\n",
    "\n",
    "    return pd.DataFrame(rows)\n",
    "\n",
    "\n",
    "report = detailed_dtype_report(df)\n",
    "print(report.to_markdown(index=False)) \n"
   ]
  }
 ],
 "metadata": {
  "language_info": {
   "name": "python"
  }
 },
 "nbformat": 4,
 "nbformat_minor": 5
}
